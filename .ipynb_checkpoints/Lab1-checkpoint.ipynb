{
 "cells": [
  {
   "cell_type": "markdown",
   "id": "96cbff85",
   "metadata": {},
   "source": [
    "# LAB1: Introduction"
   ]
  },
  {
   "cell_type": "markdown",
   "id": "25842d20",
   "metadata": {},
   "source": [
    "## Task 1:"
   ]
  },
  {
   "cell_type": "markdown",
   "id": "3b683da0",
   "metadata": {},
   "source": [
    "### Part A:"
   ]
  },
  {
   "cell_type": "code",
   "execution_count": 1,
   "id": "b3a980e9",
   "metadata": {},
   "outputs": [
    {
     "data": {
      "text/plain": [
       "'Muhammad Razi-ur-Rehman'"
      ]
     },
     "execution_count": 1,
     "metadata": {},
     "output_type": "execute_result"
    }
   ],
   "source": [
    "name=\"Muhammad Razi-ur-Rehman\"\n",
    "name"
   ]
  },
  {
   "cell_type": "code",
   "execution_count": 2,
   "id": "464679c0",
   "metadata": {},
   "outputs": [
    {
     "name": "stdout",
     "output_type": "stream",
     "text": [
      "Muhammad Razi-ur-Rehman\n"
     ]
    }
   ],
   "source": [
    "print(name)"
   ]
  },
  {
   "cell_type": "markdown",
   "id": "de7b291d",
   "metadata": {},
   "source": [
    "### Part B:"
   ]
  },
  {
   "cell_type": "code",
   "execution_count": 3,
   "id": "c781f94b",
   "metadata": {},
   "outputs": [
    {
     "name": "stdout",
     "output_type": "stream",
     "text": [
      "Muhammad Razi-ur-RehmanMuhammad Razi-ur-RehmanMuhammad Razi-ur-Rehman\n"
     ]
    }
   ],
   "source": [
    "print(name*3)"
   ]
  },
  {
   "cell_type": "markdown",
   "id": "bd27fcfb",
   "metadata": {},
   "source": [
    "To improve this task we can add space in variable or try this:"
   ]
  },
  {
   "cell_type": "code",
   "execution_count": 4,
   "id": "200d4b32",
   "metadata": {},
   "outputs": [
    {
     "name": "stdout",
     "output_type": "stream",
     "text": [
      "Muhammad Razi-ur-Rehman Muhammad Razi-ur-Rehman Muhammad Razi-ur-Rehman \n"
     ]
    }
   ],
   "source": [
    "print((name+\" \")*3)"
   ]
  },
  {
   "cell_type": "markdown",
   "id": "193f64cd",
   "metadata": {},
   "source": [
    "## Task 2:"
   ]
  },
  {
   "cell_type": "code",
   "execution_count": 5,
   "id": "07a27ed9",
   "metadata": {},
   "outputs": [
    {
     "name": "stdout",
     "output_type": "stream",
     "text": [
      "Enter 1st number=12\n",
      "Enter 2nd number=23\n",
      "Enter any arithmetic operator=+\n",
      "12 + 23 = <function <lambda> at 0x0000024884599A20>\n"
     ]
    }
   ],
   "source": [
    "num1=int(input(\"Enter 1st number=\"))\n",
    "num2=int(input(\"Enter 2nd number=\"))\n",
    "oper=input(\"Enter any arithmetic operator=\")\n",
    "if(oper==\"+\"):\n",
    "    sol=lambda num1,num2: num1+num2\n",
    "elif(oper==\"-\"):\n",
    "    sol=lambda num1,num2:num1-num2\n",
    "elif(oper==\"*\"):\n",
    "    sol=lambda num1,num2:num1*num2\n",
    "elif(oper==\"/\"):\n",
    "    sol=lambda num1,num2:num1/num2\n",
    "elif(oper==\"%\"):\n",
    "    sol=lambda num1,num2: num1%num2\n",
    "print(f\"{num1} {oper} {num2} = {sol}\")"
   ]
  },
  {
   "cell_type": "markdown",
   "id": "7c331161",
   "metadata": {},
   "source": [
    "## TASK 3:"
   ]
  },
  {
   "cell_type": "code",
   "execution_count": 6,
   "id": "f1c235da",
   "metadata": {},
   "outputs": [
    {
     "name": "stdout",
     "output_type": "stream",
     "text": [
      "Enter the first string=America\n",
      "Enter the second string=Japan\n",
      "AJrpan\n"
     ]
    }
   ],
   "source": [
    "import math\n",
    "s1=input(\"Enter the first string=\")\n",
    "s2=input(\"Enter the second string=\")\n",
    "if(len(s1)%2==0):\n",
    "    mid1=s1[math.ceil(len(s1)/2)]+s1[math.ceil(len(s1+1)/2)]\n",
    "else:\n",
    "    mid1=s1[int(len(s1)/2)]\n",
    "if(len(s1)%2==0):\n",
    "    mid2=s2[math.ceil(len(s2)/2)]+s2[math.ceil(len(s2+1)/2)]\n",
    "else:\n",
    "    mid2=s2[int(len(s2)/2)]\n",
    "\n",
    "output=s1[0]+s2[0]+mid1+mid2+s1[-1]+s2[-1]\n",
    "print(output)"
   ]
  },
  {
   "cell_type": "markdown",
   "id": "35088611",
   "metadata": {},
   "source": [
    "## TASK 4:"
   ]
  },
  {
   "cell_type": "code",
   "execution_count": 7,
   "id": "5e75cbf9",
   "metadata": {},
   "outputs": [
    {
     "name": "stdout",
     "output_type": "stream",
     "text": [
      "Enter the first string=Software\n",
      "Enter the second string=Design\n",
      "SoftDesignware\n"
     ]
    }
   ],
   "source": [
    "import math\n",
    "s1=input(\"Enter the first string=\")\n",
    "s2=input(\"Enter the second string=\")\n",
    "output=s1[:math.ceil(len(s1)/2)]+s2+s1[math.ceil(len(s1)/2):]\n",
    "print(output)"
   ]
  },
  {
   "cell_type": "markdown",
   "id": "59e651b5",
   "metadata": {},
   "source": [
    "## TASK 5:"
   ]
  },
  {
   "cell_type": "code",
   "execution_count": 8,
   "id": "af1a7bc3",
   "metadata": {},
   "outputs": [
    {
     "name": "stdout",
     "output_type": "stream",
     "text": [
      "1488252.8\n"
     ]
    }
   ],
   "source": [
    "l1=[\"Facebook\",0.0,\"USD\",297476,3.5]\n",
    "l2=[\"Instagram\",0.0,\"USD\",2161558,4.5]\n",
    "l3=[\"Clash of Clans\",0.0,\"USD\",2130805,4.5]\n",
    "l4=[\"Temple Run\",0.0,\"USD\",1724546,4.5]\n",
    "l5=[\"Pandora_Music & Radio\",0.0,\"USD\",1126879,4.0]\n",
    "\n",
    "avg=(l1[3]+l2[3]+l3[3]+l4[3]+l5[3])/5\n",
    "print(avg)"
   ]
  },
  {
   "cell_type": "markdown",
   "id": "379ada29",
   "metadata": {},
   "source": [
    "## TASK 6:"
   ]
  },
  {
   "cell_type": "code",
   "execution_count": 9,
   "id": "6ed2e14e",
   "metadata": {},
   "outputs": [],
   "source": [
    "course=[]"
   ]
  },
  {
   "cell_type": "code",
   "execution_count": 10,
   "id": "a0182d52",
   "metadata": {},
   "outputs": [
    {
     "data": {
      "text/plain": [
       "['Machine Learning', 'Software Construction', 'Formal Methods']"
      ]
     },
     "execution_count": 10,
     "metadata": {},
     "output_type": "execute_result"
    }
   ],
   "source": [
    "course.append(\"Machine Learning\")\n",
    "course.append(\"Software Construction\")\n",
    "course.append(\"Formal Methods\")\n",
    "course"
   ]
  },
  {
   "cell_type": "code",
   "execution_count": 11,
   "id": "8b5e2e20",
   "metadata": {},
   "outputs": [],
   "source": [
    "del course[1]\n",
    "course"
   ]
  },
  {
   "cell_type": "code",
   "execution_count": 13,
   "id": "eed60025",
   "metadata": {},
   "outputs": [],
   "source": [
    "course.insert(1,\"Artificail Intellegent\")\n",
    "course"
   ]
  },
  {
   "cell_type": "code",
   "execution_count": 15,
   "id": "51b2d3cb",
   "metadata": {},
   "outputs": [
    {
     "data": {
      "text/plain": [
       "('Machine Learning', 'Formal Methods')"
      ]
     },
     "execution_count": 15,
     "metadata": {},
     "output_type": "execute_result"
    }
   ],
   "source": [
    "course[0],course[2]"
   ]
  }
 ],
 "metadata": {
  "kernelspec": {
   "display_name": "Python 3 (ipykernel)",
   "language": "python",
   "name": "python3"
  },
  "language_info": {
   "codemirror_mode": {
    "name": "ipython",
    "version": 3
   },
   "file_extension": ".py",
   "mimetype": "text/x-python",
   "name": "python",
   "nbconvert_exporter": "python",
   "pygments_lexer": "ipython3",
   "version": "3.10.5"
  }
 },
 "nbformat": 4,
 "nbformat_minor": 5
}
