{
 "cells": [
  {
   "cell_type": "markdown",
   "id": "35ffa20e",
   "metadata": {},
   "source": [
    "# Experiment 2: Python Introduction - II"
   ]
  },
  {
   "cell_type": "markdown",
   "id": "e1969843",
   "metadata": {},
   "source": [
    "## TASK 1"
   ]
  },
  {
   "cell_type": "code",
   "execution_count": 5,
   "id": "90951155",
   "metadata": {},
   "outputs": [
    {
     "name": "stdout",
     "output_type": "stream",
     "text": [
      "Enter lower limit=5\n",
      "Enter higher limit=10\n",
      "5 7 "
     ]
    }
   ],
   "source": [
    "import math\n",
    "num1=int(input(\"Enter lower limit=\"))\n",
    "num2=int(input(\"Enter higher limit=\"))\n",
    "for i in range(num1,num2+1):\n",
    "    prime=True\n",
    "    for a in range(2,i):\n",
    "        if(i%a==0):\n",
    "            prime=False\n",
    "            break\n",
    "    if (prime):\n",
    "        print(i,end=\" \")"
   ]
  },
  {
   "cell_type": "markdown",
   "id": "b3fe3439",
   "metadata": {},
   "source": [
    "## TASK 2"
   ]
  },
  {
   "cell_type": "code",
   "execution_count": 6,
   "id": "bd041531",
   "metadata": {},
   "outputs": [
    {
     "name": "stdout",
     "output_type": "stream",
     "text": [
      "15 55 75 150 "
     ]
    }
   ],
   "source": [
    "# num=int(input(\"Enter the length of the list=\"))\n",
    "# numList=list(map(int,input().split()))\n",
    "numList=[12,15,32,42,55,75,122,132,150,180,200]\n",
    "for i in numList:\n",
    "    if(i>150):\n",
    "        break\n",
    "    if(i%5==0):\n",
    "        print(i,end=\" \")"
   ]
  },
  {
   "cell_type": "markdown",
   "id": "556564a0",
   "metadata": {},
   "source": [
    "## Task 3"
   ]
  },
  {
   "cell_type": "code",
   "execution_count": null,
   "id": "b278b060",
   "metadata": {},
   "outputs": [],
   "source": [
    "words=input(\"Enter the words=\").split(\",\")\n",
    "words=[i.strip() in words]\n",
    "words.sort()\n",
    "words"
   ]
  },
  {
   "cell_type": "markdown",
   "id": "21e6841a",
   "metadata": {},
   "source": [
    "## Task 4"
   ]
  },
  {
   "cell_type": "code",
   "execution_count": null,
   "id": "72bb87af",
   "metadata": {},
   "outputs": [],
   "source": [
    "def add(a,b):\n",
    "    return a+b\n",
    "def sub(a,b):\n",
    "    return a-b\n",
    "def multiple(a,b):\n",
    "    return a*b\n",
    "def divide(a,b):\n",
    "    return a/b\n",
    "def module(a,b):\n",
    "    return a%b\n",
    "def factorial(a):\n",
    "    if(a<=1):\n",
    "        return 1\n",
    "    else:\n",
    "        return a*factorial(a-1)\n",
    "def power(a,b):\n",
    "    return a**b\n",
    "\n",
    "sol=int(input(\"Enter number=\"))\n",
    "print(\"__Choices__\")\n",
    "print(\"+ --> Addition\\n- --> Subtraction\\n* --> Multiplication\\n/ --> Division\\n% --> Module\\n! --> Factorial\\n^ --> Power\")\n",
    "print(\"= --> To Display the result\")\n",
    "oper=input(\"Enter any operator:\")\n",
    "while(oper!=\"=\"):\n",
    "    if(oper!=\"!\"):\n",
    "        num2=int(input(\"Enter number=\"))  \n",
    "    \n",
    "    if(oper==\"+\"):\n",
    "        sol=add(sol,num2)\n",
    "    elif(oper==\"-\"):\n",
    "        sol=sub(sol,num2)\n",
    "    elif(oper==\"*\"):\n",
    "        sol=multiple(sol,num2)\n",
    "    elif(oper==\"/\"):\n",
    "        sol=divide(sol,num2)\n",
    "    elif(oper==\"%\"):\n",
    "        sol=module(sol,num2)\n",
    "    elif(oper==\"!\"):\n",
    "        sol=factorial(sol)\n",
    "    elif(oper==\"^\"):\n",
    "        sol=power(sol,num2)\n",
    "    oper=input(\"Enter any operator:\")\n",
    "print(f\"Solution={sol}\")"
   ]
  },
  {
   "cell_type": "code",
   "execution_count": null,
   "id": "87450e64",
   "metadata": {},
   "outputs": [],
   "source": []
  }
 ],
 "metadata": {
  "kernelspec": {
   "display_name": "Python 3 (ipykernel)",
   "language": "python",
   "name": "python3"
  },
  "language_info": {
   "codemirror_mode": {
    "name": "ipython",
    "version": 3
   },
   "file_extension": ".py",
   "mimetype": "text/x-python",
   "name": "python",
   "nbconvert_exporter": "python",
   "pygments_lexer": "ipython3",
   "version": "3.10.5"
  }
 },
 "nbformat": 4,
 "nbformat_minor": 5
}
