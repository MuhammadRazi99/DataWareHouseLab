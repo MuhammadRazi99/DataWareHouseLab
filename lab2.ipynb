{
 "cells": [
  {
   "cell_type": "markdown",
   "id": "35ffa20e",
   "metadata": {},
   "source": [
    "# Experiment 2: Python Introduction - II"
   ]
  },
  {
   "cell_type": "markdown",
   "id": "e1969843",
   "metadata": {},
   "source": [
    "## TASK 1"
   ]
  },
  {
   "cell_type": "markdown",
   "id": "673e0e7b",
   "metadata": {},
   "source": [
    "Write a program that takes two integers as input (lower limit and upper limit) and displays all the prime numbers including and between these two numbers."
   ]
  },
  {
   "cell_type": "code",
   "execution_count": 1,
   "id": "90951155",
   "metadata": {},
   "outputs": [
    {
     "name": "stdout",
     "output_type": "stream",
     "text": [
      "Enter lower limit=5\n",
      "Enter higher limit=19\n",
      "5 7 11 13 17 19 "
     ]
    }
   ],
   "source": [
    "import math\n",
    "num1=int(input(\"Enter lower limit=\"))\n",
    "num2=int(input(\"Enter higher limit=\"))\n",
    "for i in range(num1,num2+1):\n",
    "    prime=True\n",
    "    for a in range(2,i):\n",
    "        if(i%a==0):\n",
    "            prime=False\n",
    "            break\n",
    "    if (prime):\n",
    "        print(i,end=\" \")"
   ]
  },
  {
   "cell_type": "markdown",
   "id": "b3fe3439",
   "metadata": {},
   "source": [
    "## TASK 2"
   ]
  },
  {
   "cell_type": "markdown",
   "id": "59a99cd3",
   "metadata": {},
   "source": [
    "Given a list iterate it and display numbers which are divisible by 5 and if you find number greater than 150 stop the loop iteration.\n"
   ]
  },
  {
   "cell_type": "markdown",
   "id": "d3946722",
   "metadata": {},
   "source": [
    "list1 = [12, 15, 32, 42, 55, 75, 122, 132, 150, 180, 200]\n"
   ]
  },
  {
   "cell_type": "code",
   "execution_count": 2,
   "id": "bd041531",
   "metadata": {},
   "outputs": [
    {
     "name": "stdout",
     "output_type": "stream",
     "text": [
      "15 55 75 150 "
     ]
    }
   ],
   "source": [
    "# num=int(input(\"Enter the length of the list=\"))\n",
    "# numList=list(map(int,input().splbit()))\n",
    "numList=[12,15,32,42,55,75,122,132,150,180,200]\n",
    "for i in numList:\n",
    "    if(i>150):\n",
    "        break\n",
    "    if(i%5==0):\n",
    "        print(i,end=\" \")"
   ]
  },
  {
   "cell_type": "markdown",
   "id": "556564a0",
   "metadata": {},
   "source": [
    "## Task 3"
   ]
  },
  {
   "cell_type": "markdown",
   "id": "183fb5b6",
   "metadata": {},
   "source": [
    "Write a program that accepts a comma separated sequence of words as input and prints the words in a comma-separated sequence after sorting them alphabetically. Suppose the following input is supplied to the program: without, hello, bag, world. Then, the output should be: bag, hello, without, world."
   ]
  },
  {
   "cell_type": "code",
   "execution_count": 3,
   "id": "b278b060",
   "metadata": {},
   "outputs": [
    {
     "name": "stdout",
     "output_type": "stream",
     "text": [
      "Enter the words=without, hello, bag, world\n"
     ]
    },
    {
     "data": {
      "text/plain": [
       "['bag', 'hello', 'without', 'world']"
      ]
     },
     "execution_count": 3,
     "metadata": {},
     "output_type": "execute_result"
    }
   ],
   "source": [
    "words=input(\"Enter the words=\").split(\",\")\n",
    "words=[i.strip() for i in words]\n",
    "words.sort()\n",
    "words"
   ]
  },
  {
   "cell_type": "markdown",
   "id": "21e6841a",
   "metadata": {},
   "source": [
    "## Task 4"
   ]
  },
  {
   "cell_type": "markdown",
   "id": "3c746816",
   "metadata": {},
   "source": [
    "a.\tWrite a simple calculator program. Follow the steps below:\n",
    "1.\tDeclare and define a function named Menu which displays a list of choices for the user such as addition, subtraction, multiplication, and classic division. It should take the choice from user as an input and return.\n",
    "2.\tDefine and declare a separate function for each choice (each mathematical operation).\n",
    "3.\tIn the main body of the program call the respective function depending on the user’s choice.\n"
   ]
  },
  {
   "cell_type": "markdown",
   "id": "90bebc45",
   "metadata": {},
   "source": [
    "b.\tImplement the following functions for the calculator you created in the above task.\n",
    "1.\tFactorial\t\t\n",
    "2.\tx_power_y (x raised to the power y)"
   ]
  },
  {
   "cell_type": "code",
   "execution_count": 4,
   "id": "72bb87af",
   "metadata": {},
   "outputs": [
    {
     "name": "stdout",
     "output_type": "stream",
     "text": [
      "__Choices__\n",
      "+ --> Addition\n",
      "- --> Subtraction\n",
      "* --> Multiplication\n",
      "/ --> Division\n",
      "% --> Module\n",
      "! --> Factorial\n",
      "^ --> Power\n",
      "= --> To Display the result\n",
      "Enter number=2\n",
      "Enter any operator:+\n",
      "Enter number=3\n",
      "Enter any operator:-\n",
      "Enter number=2\n",
      "Enter any operator:!\n",
      "Enter any operator:=\n",
      "Solution=6\n"
     ]
    }
   ],
   "source": [
    "def add(a,b):\n",
    "    return a+b\n",
    "def sub(a,b):\n",
    "    return a-b\n",
    "def multiple(a,b):\n",
    "    return a*b\n",
    "def divide(a,b):\n",
    "    return a/b\n",
    "def module(a,b):\n",
    "    return a%b\n",
    "def factorial(a):\n",
    "    if(a<=1):\n",
    "        return 1\n",
    "    else:\n",
    "        return a*factorial(a-1)\n",
    "def power(a,b):\n",
    "    return a**b\n",
    "\n",
    "print(\"__Choices__\")\n",
    "print(\"+ --> Addition\\n- --> Subtraction\\n* --> Multiplication\\n/ --> Division\\n% --> Module\\n! --> Factorial\\n^ --> Power\")\n",
    "print(\"= --> To Display the result\")\n",
    "sol=int(input(\"Enter number=\"))\n",
    "oper=input(\"Enter any operator:\")\n",
    "while(oper!=\"=\"):\n",
    "    if(oper!=\"!\"):\n",
    "        num2=int(input(\"Enter number=\"))  \n",
    "    \n",
    "    if(oper==\"+\"):\n",
    "        sol=add(sol,num2)\n",
    "    elif(oper==\"-\"):\n",
    "        sol=sub(sol,num2)\n",
    "    elif(oper==\"*\"):\n",
    "        sol=multiple(sol,num2)\n",
    "    elif(oper==\"/\"):\n",
    "        sol=divide(sol,num2)\n",
    "    elif(oper==\"%\"):\n",
    "        sol=module(sol,num2)\n",
    "    elif(oper==\"!\"):\n",
    "        sol=factorial(sol)\n",
    "    elif(oper==\"^\"):\n",
    "        sol=power(sol,num2)\n",
    "    oper=input(\"Enter any operator:\")\n",
    "print(f\"Solution={sol}\")"
   ]
  },
  {
   "cell_type": "code",
   "execution_count": 5,
   "id": "83f37904",
   "metadata": {},
   "outputs": [
    {
     "name": "stdout",
     "output_type": "stream",
     "text": [
      "Enter number=2\n",
      "__Choices__\n",
      "+ --> Addition\n",
      "- --> Subtraction\n",
      "* --> Multiplication\n",
      "/ --> Division\n",
      "% --> Module\n",
      "! --> Factorial\n",
      "^ --> Power\n",
      "= --> To Display the result\n",
      "Enter any operator:!\n",
      "__Choices__\n",
      "+ --> Addition\n",
      "- --> Subtraction\n",
      "* --> Multiplication\n",
      "/ --> Division\n",
      "% --> Module\n",
      "! --> Factorial\n",
      "^ --> Power\n",
      "= --> To Display the result\n",
      "Enter any operator:=\n",
      "Solution=2\n"
     ]
    }
   ],
   "source": [
    "def add(a,b):\n",
    "    return a+b\n",
    "def sub(a,b):\n",
    "    return a-b\n",
    "def multiple(a,b):\n",
    "    return a*b\n",
    "def divide(a,b):\n",
    "    return a/b\n",
    "def module(a,b):\n",
    "    return a%b\n",
    "def factorial(a):\n",
    "    if(a<=1):\n",
    "        return 1\n",
    "    else:\n",
    "        return a*factorial(a-1)\n",
    "def power(a,b):\n",
    "    return a**b\n",
    "def menu():\n",
    "    print(\"__Choices__\")\n",
    "    print(\"+ --> Addition\\n- --> Subtraction\\n* --> Multiplication\\n/ --> Division\\n% --> Module\\n! --> Factorial\\n^ --> Power\")\n",
    "    print(\"= --> To Display the result\")\n",
    "    return input(\"Enter any operator:\")\n",
    "if __name__==\"__main__\":\n",
    "    sol=int(input(\"Enter number=\"))  \n",
    "    oper=menu()\n",
    "    while(oper!=\"=\"):\n",
    "        if(oper!=\"!\"):\n",
    "            num2=int(input(\"Enter number=\"))  \n",
    "\n",
    "        if(oper==\"+\"):\n",
    "            sol=add(sol,num2)\n",
    "        elif(oper==\"-\"):\n",
    "            sol=sub(sol,num2)\n",
    "        elif(oper==\"*\"):\n",
    "            sol=multiple(sol,num2)\n",
    "        elif(oper==\"/\"):\n",
    "            sol=divide(sol,num2)\n",
    "        elif(oper==\"%\"):\n",
    "            sol=module(sol,num2)\n",
    "        elif(oper==\"!\"):\n",
    "            sol=factorial(sol)\n",
    "        elif(oper==\"^\"):\n",
    "            sol=power(sol,num2)\n",
    "        oper=menu()\n",
    "    print(f\"Solution={sol}\")"
   ]
  }
 ],
 "metadata": {
  "kernelspec": {
   "display_name": "Python 3 (ipykernel)",
   "language": "python",
   "name": "python3"
  },
  "language_info": {
   "codemirror_mode": {
    "name": "ipython",
    "version": 3
   },
   "file_extension": ".py",
   "mimetype": "text/x-python",
   "name": "python",
   "nbconvert_exporter": "python",
   "pygments_lexer": "ipython3",
   "version": "3.10.5"
  }
 },
 "nbformat": 4,
 "nbformat_minor": 5
}
