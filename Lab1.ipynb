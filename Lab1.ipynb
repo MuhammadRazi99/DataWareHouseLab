{
 "cells": [
  {
   "attachments": {},
   "cell_type": "markdown",
   "id": "96cbff85",
   "metadata": {},
   "source": [
    "# Experiment 1: Introduction to Python-I"
   ]
  },
  {
   "cell_type": "markdown",
   "id": "25842d20",
   "metadata": {},
   "source": [
    "## Task 1:"
   ]
  },
  {
   "attachments": {},
   "cell_type": "markdown",
   "id": "8d3f03cd",
   "metadata": {},
   "source": [
    "Write a program to:"
   ]
  },
  {
   "cell_type": "markdown",
   "id": "3b683da0",
   "metadata": {},
   "source": [
    "### Part A:"
   ]
  },
  {
   "attachments": {},
   "cell_type": "markdown",
   "id": "db9c151e",
   "metadata": {},
   "source": [
    "a)\tDefine a string with your name and assign it to a variable. Print the contents of this variable in two ways, first by simply typing the variable name and pressing enter, then by using the print statement."
   ]
  },
  {
   "cell_type": "code",
   "execution_count": 1,
   "id": "b3a980e9",
   "metadata": {},
   "outputs": [
    {
     "data": {
      "text/plain": [
       "'Muhammad Razi-ur-Rehman'"
      ]
     },
     "execution_count": 1,
     "metadata": {},
     "output_type": "execute_result"
    }
   ],
   "source": [
    "name=\"Muhammad Razi-ur-Rehman\"\n",
    "name"
   ]
  },
  {
   "cell_type": "code",
   "execution_count": 2,
   "id": "464679c0",
   "metadata": {},
   "outputs": [
    {
     "name": "stdout",
     "output_type": "stream",
     "text": [
      "Muhammad Razi-ur-Rehman\n"
     ]
    }
   ],
   "source": [
    "print(name)"
   ]
  },
  {
   "cell_type": "markdown",
   "id": "de7b291d",
   "metadata": {},
   "source": [
    "### Part B:"
   ]
  },
  {
   "attachments": {},
   "cell_type": "markdown",
   "id": "03d1915c",
   "metadata": {},
   "source": [
    "b)\tTry adding the string to itself using my_string + my_string, or multiplying it by a number, e.g., my_string * 3. Notice that the strings are joined together without any spaces. How could you fix this?"
   ]
  },
  {
   "cell_type": "code",
   "execution_count": 3,
   "id": "c781f94b",
   "metadata": {},
   "outputs": [
    {
     "name": "stdout",
     "output_type": "stream",
     "text": [
      "Muhammad Razi-ur-RehmanMuhammad Razi-ur-RehmanMuhammad Razi-ur-Rehman\n"
     ]
    }
   ],
   "source": [
    "print(name*3)"
   ]
  },
  {
   "cell_type": "markdown",
   "id": "bd27fcfb",
   "metadata": {},
   "source": [
    "To improve this task we can add space in variable or try this:"
   ]
  },
  {
   "cell_type": "code",
   "execution_count": 4,
   "id": "200d4b32",
   "metadata": {},
   "outputs": [
    {
     "name": "stdout",
     "output_type": "stream",
     "text": [
      "Muhammad Razi-ur-Rehman Muhammad Razi-ur-Rehman Muhammad Razi-ur-Rehman \n"
     ]
    }
   ],
   "source": [
    "print((name+\" \")*3)"
   ]
  },
  {
   "cell_type": "markdown",
   "id": "193f64cd",
   "metadata": {},
   "source": [
    "## Task 2:"
   ]
  },
  {
   "attachments": {},
   "cell_type": "markdown",
   "id": "60f84587",
   "metadata": {},
   "source": [
    "Write a python program to create a function arithematic_operation to perform arithmetic operations(+, -, *, /) using two numbers. "
   ]
  },
  {
   "cell_type": "code",
   "execution_count": 5,
   "id": "07a27ed9",
   "metadata": {},
   "outputs": [
    {
     "name": "stdout",
     "output_type": "stream",
     "text": [
      "Enter 1st number=23\n",
      "Enter 2nd number=2\n",
      "Enter any arithmetic operator=%\n",
      "23 % 2 = 1\n"
     ]
    }
   ],
   "source": [
    "def add(a,b):\n",
    "    return a+b\n",
    "def sub(a,b):\n",
    "    return a-b\n",
    "def multiple(a,b):\n",
    "    return a*b\n",
    "def divide(a,b):\n",
    "    return a/b\n",
    "def module(a,b):\n",
    "    return a%b\n",
    "\n",
    "num1=int(input(\"Enter 1st number=\"))\n",
    "num2=int(input(\"Enter 2nd number=\"))\n",
    "oper=input(\"Enter any arithmetic operator=\")\n",
    "if(oper==\"+\"):\n",
    "    sol=add(num1,num2)\n",
    "elif(oper==\"-\"):\n",
    "    sol=sub(num1,num2)\n",
    "elif(oper==\"*\"):\n",
    "    sol=multiple(num1,num2)\n",
    "elif(oper==\"/\"):\n",
    "    sol=divide(num1,num2)\n",
    "elif(oper==\"%\"):\n",
    "    sol=module(num1,num2)\n",
    "print(f\"{num1} {oper} {num2} = {sol}\")"
   ]
  },
  {
   "cell_type": "markdown",
   "id": "7c331161",
   "metadata": {},
   "source": [
    "## TASK 3:"
   ]
  },
  {
   "attachments": {},
   "cell_type": "markdown",
   "id": "b084ac75",
   "metadata": {},
   "source": [
    "Given two strings, s1, and s2 return a new string made of the first, middle, and last characters each input string.\n"
   ]
  },
  {
   "cell_type": "code",
   "execution_count": 6,
   "id": "f1c235da",
   "metadata": {},
   "outputs": [
    {
     "name": "stdout",
     "output_type": "stream",
     "text": [
      "Enter the first string=America\n",
      "Enter the second string=Japan\n",
      "AJrpan\n"
     ]
    }
   ],
   "source": [
    "import math\n",
    "s1=input(\"Enter the first string=\")\n",
    "s2=input(\"Enter the second string=\")\n",
    "if(len(s1)%2==0):\n",
    "    mid1=s1[math.ceil(len(s1)/2)]+s1[math.ceil(len(s1+1)/2)]\n",
    "else:\n",
    "    mid1=s1[int(len(s1)/2)]\n",
    "if(len(s1)%2==0):\n",
    "    mid2=s2[math.ceil(len(s2)/2)]+s2[math.ceil(len(s2+1)/2)]\n",
    "else:\n",
    "    mid2=s2[int(len(s2)/2)]\n",
    "\n",
    "output=s1[0]+s2[0]+mid1+mid2+s1[-1]+s2[-1]\n",
    "print(output)"
   ]
  },
  {
   "cell_type": "markdown",
   "id": "35088611",
   "metadata": {},
   "source": [
    "## TASK 4:"
   ]
  },
  {
   "cell_type": "markdown",
   "id": "fa0219aa",
   "metadata": {},
   "source": [
    "Write a program to create a function that takes wo strings s1 and s2 and create a new string by appending s2 in the middle of s1."
   ]
  },
  {
   "cell_type": "code",
   "execution_count": 7,
   "id": "5e75cbf9",
   "metadata": {},
   "outputs": [
    {
     "name": "stdout",
     "output_type": "stream",
     "text": [
      "Enter the first string=Software\n",
      "Enter the second string=Design\n",
      "SoftDesignware\n"
     ]
    }
   ],
   "source": [
    "import math\n",
    "s1=input(\"Enter the first string=\")\n",
    "s2=input(\"Enter the second string=\")\n",
    "output=s1[:math.ceil(len(s1)/2)]+s2+s1[math.ceil(len(s1)/2):]\n",
    "print(output)"
   ]
  },
  {
   "cell_type": "markdown",
   "id": "59e651b5",
   "metadata": {},
   "source": [
    "## TASK 5:"
   ]
  },
  {
   "attachments": {},
   "cell_type": "markdown",
   "id": "8cfcd13c",
   "metadata": {},
   "source": [
    "Write a program to create five lists, one for each row in our dataset:"
   ]
  },
  {
   "cell_type": "code",
   "execution_count": 8,
   "id": "af1a7bc3",
   "metadata": {},
   "outputs": [
    {
     "name": "stdout",
     "output_type": "stream",
     "text": [
      "1488252.8\n"
     ]
    }
   ],
   "source": [
    "l1=[\"Facebook\",0.0,\"USD\",297476,3.5]\n",
    "l2=[\"Instagram\",0.0,\"USD\",2161558,4.5]\n",
    "l3=[\"Clash of Clans\",0.0,\"USD\",2130805,4.5]\n",
    "l4=[\"Temple Run\",0.0,\"USD\",1724546,4.5]\n",
    "l5=[\"Pandora_Music & Radio\",0.0,\"USD\",1126879,4.0]\n",
    "\n",
    "avg=(l1[3]+l2[3]+l3[3]+l4[3]+l5[3])/5\n",
    "print(avg)"
   ]
  },
  {
   "cell_type": "markdown",
   "id": "379ada29",
   "metadata": {},
   "source": [
    "## TASK 6:"
   ]
  },
  {
   "attachments": {},
   "cell_type": "markdown",
   "id": "ace37555",
   "metadata": {},
   "source": [
    "Write a program to create the course variable then set the course variable to be an empty list. \n",
    "1.\tNow, Add  'Machine Learning', 'Software Construction', and 'Formal Methods' to the users list in that order without reassigning the variable.\n",
    "2.\tDelete software construction and display the updated list content.\n",
    "3.\tAdd the course 'Artificial Intelligence' to course where ' Software Construction' used to be.\n",
    "4.\tSlice course to Return 1st  and 3rd  Elements"
   ]
  },
  {
   "cell_type": "code",
   "execution_count": 9,
   "id": "6ed2e14e",
   "metadata": {},
   "outputs": [],
   "source": [
    "course=[]"
   ]
  },
  {
   "cell_type": "code",
   "execution_count": 10,
   "id": "a0182d52",
   "metadata": {},
   "outputs": [
    {
     "data": {
      "text/plain": [
       "['Machine Learning', 'Software Construction', 'Formal Methods']"
      ]
     },
     "execution_count": 10,
     "metadata": {},
     "output_type": "execute_result"
    }
   ],
   "source": [
    "course.append(\"Machine Learning\")\n",
    "course.append(\"Software Construction\")\n",
    "course.append(\"Formal Methods\")\n",
    "course"
   ]
  },
  {
   "cell_type": "code",
   "execution_count": 11,
   "id": "8b5e2e20",
   "metadata": {},
   "outputs": [
    {
     "data": {
      "text/plain": [
       "['Machine Learning', 'Formal Methods']"
      ]
     },
     "execution_count": 11,
     "metadata": {},
     "output_type": "execute_result"
    }
   ],
   "source": [
    "del course[1]\n",
    "course"
   ]
  },
  {
   "cell_type": "code",
   "execution_count": 12,
   "id": "eed60025",
   "metadata": {},
   "outputs": [
    {
     "data": {
      "text/plain": [
       "['Machine Learning', 'Artificail Intellegent', 'Formal Methods']"
      ]
     },
     "execution_count": 12,
     "metadata": {},
     "output_type": "execute_result"
    }
   ],
   "source": [
    "course.insert(1,\"Artificail Intellegent\")\n",
    "course"
   ]
  },
  {
   "cell_type": "code",
   "execution_count": 13,
   "id": "51b2d3cb",
   "metadata": {},
   "outputs": [
    {
     "data": {
      "text/plain": [
       "('Machine Learning', 'Formal Methods')"
      ]
     },
     "execution_count": 13,
     "metadata": {},
     "output_type": "execute_result"
    }
   ],
   "source": [
    "course[0],course[2]"
   ]
  }
 ],
 "metadata": {
  "kernelspec": {
   "display_name": "Python 3 (ipykernel)",
   "language": "python",
   "name": "python3"
  },
  "language_info": {
   "codemirror_mode": {
    "name": "ipython",
    "version": 3
   },
   "file_extension": ".py",
   "mimetype": "text/x-python",
   "name": "python",
   "nbconvert_exporter": "python",
   "pygments_lexer": "ipython3",
   "version": "3.10.5"
  },
  "vscode": {
   "interpreter": {
    "hash": "f5d970ce3a869c424d840219ec304347cecc96c42e1b8d72b3facc8cee4d3a35"
   }
  }
 },
 "nbformat": 4,
 "nbformat_minor": 5
}
